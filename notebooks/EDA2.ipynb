{
 "cells": [
  {
   "cell_type": "code",
   "id": "initial_id",
   "metadata": {
    "collapsed": true,
    "ExecuteTime": {
     "end_time": "2025-05-15T18:34:58.946312Z",
     "start_time": "2025-05-15T18:34:58.194749Z"
    }
   },
   "source": "!pip install openai",
   "outputs": [
    {
     "name": "stdout",
     "output_type": "stream",
     "text": [
      "/bin/bash: warning: setlocale: LC_ALL: cannot change locale (en_US.UTF-8)\r\n",
      "Requirement already satisfied: openai in /home/maiconkevyn/PycharmProjects/chatbot-pysus/.venv/lib/python3.11/site-packages (1.78.1)\r\n",
      "Requirement already satisfied: anyio<5,>=3.5.0 in /home/maiconkevyn/PycharmProjects/chatbot-pysus/.venv/lib/python3.11/site-packages (from openai) (4.9.0)\r\n",
      "Requirement already satisfied: distro<2,>=1.7.0 in /home/maiconkevyn/PycharmProjects/chatbot-pysus/.venv/lib/python3.11/site-packages (from openai) (1.9.0)\r\n",
      "Requirement already satisfied: httpx<1,>=0.23.0 in /home/maiconkevyn/PycharmProjects/chatbot-pysus/.venv/lib/python3.11/site-packages (from openai) (0.28.1)\r\n",
      "Requirement already satisfied: jiter<1,>=0.4.0 in /home/maiconkevyn/PycharmProjects/chatbot-pysus/.venv/lib/python3.11/site-packages (from openai) (0.9.0)\r\n",
      "Requirement already satisfied: pydantic<3,>=1.9.0 in /home/maiconkevyn/PycharmProjects/chatbot-pysus/.venv/lib/python3.11/site-packages (from openai) (2.11.4)\r\n",
      "Requirement already satisfied: sniffio in /home/maiconkevyn/PycharmProjects/chatbot-pysus/.venv/lib/python3.11/site-packages (from openai) (1.3.1)\r\n",
      "Requirement already satisfied: tqdm>4 in /home/maiconkevyn/PycharmProjects/chatbot-pysus/.venv/lib/python3.11/site-packages (from openai) (4.67.1)\r\n",
      "Requirement already satisfied: typing-extensions<5,>=4.11 in /home/maiconkevyn/PycharmProjects/chatbot-pysus/.venv/lib/python3.11/site-packages (from openai) (4.13.2)\r\n",
      "Requirement already satisfied: idna>=2.8 in /home/maiconkevyn/PycharmProjects/chatbot-pysus/.venv/lib/python3.11/site-packages (from anyio<5,>=3.5.0->openai) (3.10)\r\n",
      "Requirement already satisfied: certifi in /home/maiconkevyn/PycharmProjects/chatbot-pysus/.venv/lib/python3.11/site-packages (from httpx<1,>=0.23.0->openai) (2025.4.26)\r\n",
      "Requirement already satisfied: httpcore==1.* in /home/maiconkevyn/PycharmProjects/chatbot-pysus/.venv/lib/python3.11/site-packages (from httpx<1,>=0.23.0->openai) (1.0.9)\r\n",
      "Requirement already satisfied: h11>=0.16 in /home/maiconkevyn/PycharmProjects/chatbot-pysus/.venv/lib/python3.11/site-packages (from httpcore==1.*->httpx<1,>=0.23.0->openai) (0.16.0)\r\n",
      "Requirement already satisfied: annotated-types>=0.6.0 in /home/maiconkevyn/PycharmProjects/chatbot-pysus/.venv/lib/python3.11/site-packages (from pydantic<3,>=1.9.0->openai) (0.7.0)\r\n",
      "Requirement already satisfied: pydantic-core==2.33.2 in /home/maiconkevyn/PycharmProjects/chatbot-pysus/.venv/lib/python3.11/site-packages (from pydantic<3,>=1.9.0->openai) (2.33.2)\r\n",
      "Requirement already satisfied: typing-inspection>=0.4.0 in /home/maiconkevyn/PycharmProjects/chatbot-pysus/.venv/lib/python3.11/site-packages (from pydantic<3,>=1.9.0->openai) (0.4.0)\r\n"
     ]
    }
   ],
   "execution_count": 20
  },
  {
   "metadata": {
    "ExecuteTime": {
     "end_time": "2025-05-15T18:34:58.961418Z",
     "start_time": "2025-05-15T18:34:58.958544Z"
    }
   },
   "cell_type": "code",
   "source": [
    "import os\n",
    "import openai\n",
    "\n",
    "from dotenv import load_dotenv, find_dotenv\n",
    "_ = load_dotenv(find_dotenv()) # read local .env file\n",
    "openai.api_key = os.environ['OPENAI_API_KEY']"
   ],
   "id": "6c2cb43362e8922a",
   "outputs": [],
   "execution_count": 21
  },
  {
   "metadata": {
    "ExecuteTime": {
     "end_time": "2025-05-15T18:35:13.393614Z",
     "start_time": "2025-05-15T18:34:59.007641Z"
    }
   },
   "cell_type": "code",
   "source": [
    "from openai import OpenAI\n",
    "import os\n",
    "client = OpenAI(api_key=os.environ.get(\"OPENAI_API_KEY\"))\n",
    "\n",
    "tools = [{\n",
    "    \"type\": \"function\",\n",
    "    \"name\": \"get_weather\",\n",
    "    \"description\": \"Get current temperature for a given location.\",\n",
    "    \"parameters\": {\n",
    "        \"type\": \"object\",\n",
    "        \"properties\": {\n",
    "            \"location\": {\n",
    "                \"type\": \"string\",\n",
    "                \"description\": \"City and country e.g. Bogotá, Colombia\"\n",
    "            }\n",
    "        },\n",
    "        \"required\": [\n",
    "            \"location\"\n",
    "        ],\n",
    "        \"additionalProperties\": False\n",
    "    }\n",
    "}]\n",
    "\n",
    "response = client.responses.create(\n",
    "    model=\"gpt-4.1\",\n",
    "    input=[{\"role\": \"user\", \"content\": \"What's the weather like in Porto Alegre - Brazil today?\"}],\n",
    "    tools=tools\n",
    ")\n",
    "\n",
    "print(response.output)"
   ],
   "id": "872a8bfc9a6dd2a5",
   "outputs": [
    {
     "name": "stdout",
     "output_type": "stream",
     "text": [
      "[ResponseFunctionToolCall(arguments='{\"location\":\"Porto Alegre, Brazil\"}', call_id='call_FuvsezDcdemGzs54QgzMyKBW', name='get_weather', type='function_call', id='fc_682633de0f14819889d9eeb79d255f0a0a8d93dde3f9e807', status='completed')]\n"
     ]
    }
   ],
   "execution_count": 22
  },
  {
   "metadata": {
    "ExecuteTime": {
     "end_time": "2025-05-15T18:35:13.447491Z",
     "start_time": "2025-05-15T18:35:13.445224Z"
    }
   },
   "cell_type": "code",
   "source": [
    "import requests\n",
    "\n",
    "def get_weather(latitude, longitude):\n",
    "    response = requests.get(f\"https://api.open-meteo.com/v1/forecast?latitude={latitude}&longitude={longitude}&current=temperature_2m,wind_speed_10m&hourly=temperature_2m,relative_humidity_2m,wind_speed_10m\")\n",
    "    data = response.json()\n",
    "    return data['current']['temperature_2m']"
   ],
   "id": "44931d1030ac676f",
   "outputs": [],
   "execution_count": 23
  },
  {
   "metadata": {
    "ExecuteTime": {
     "end_time": "2025-05-15T18:35:15.269136Z",
     "start_time": "2025-05-15T18:35:13.493063Z"
    }
   },
   "cell_type": "code",
   "source": [
    "import json\n",
    "\n",
    "tools = [{\n",
    "    \"type\": \"function\",\n",
    "    \"name\": \"get_weather\",\n",
    "    \"description\": \"Get current temperature for provided coordinates in celsius.\",\n",
    "    \"parameters\": {\n",
    "        \"type\": \"object\",\n",
    "        \"properties\": {\n",
    "            \"latitude\": {\"type\": \"number\"},\n",
    "            \"longitude\": {\"type\": \"number\"}\n",
    "        },\n",
    "        \"required\": [\"latitude\", \"longitude\"],\n",
    "        \"additionalProperties\": False\n",
    "    },\n",
    "    \"strict\": True\n",
    "}]\n",
    "\n",
    "\n",
    "input_messages = [{\"role\": \"user\", \"content\": \"What's the weather like in Porto Alegre - Brazil today?\"}]\n",
    "\n",
    "response = client.responses.create(\n",
    "    model=\"gpt-4.1\",\n",
    "    input=input_messages,\n",
    "    tools=tools,\n",
    ")"
   ],
   "id": "baf8f6b2448d3316",
   "outputs": [],
   "execution_count": 24
  },
  {
   "metadata": {
    "ExecuteTime": {
     "end_time": "2025-05-15T18:35:18.258626Z",
     "start_time": "2025-05-15T18:35:15.277791Z"
    }
   },
   "cell_type": "code",
   "source": [
    "tool_call = response.output[0]\n",
    "args = json.loads(tool_call.arguments)\n",
    "\n",
    "result = get_weather(args[\"latitude\"], args[\"longitude\"])"
   ],
   "id": "62750d68d1b1474b",
   "outputs": [],
   "execution_count": 25
  },
  {
   "metadata": {
    "ExecuteTime": {
     "end_time": "2025-05-15T18:35:19.931204Z",
     "start_time": "2025-05-15T18:35:18.268107Z"
    }
   },
   "cell_type": "code",
   "source": [
    "input_messages.append(tool_call)  # append model's function call message\n",
    "input_messages.append({                               # append result message\n",
    "    \"type\": \"function_call_output\",\n",
    "    \"call_id\": tool_call.call_id,\n",
    "    \"output\": str(result)\n",
    "})\n",
    "\n",
    "response_2 = client.responses.create(\n",
    "    model=\"gpt-4.1\",\n",
    "    input=input_messages,\n",
    "    tools=tools,\n",
    ")\n",
    "print(response_2.output_text)"
   ],
   "id": "c4e956b7e1c1f3c4",
   "outputs": [
    {
     "name": "stdout",
     "output_type": "stream",
     "text": [
      "The current temperature in Porto Alegre, Brazil is approximately 26.9°C. If you need more specific information (such as weather conditions, precipitation, or wind), please let me know!\n"
     ]
    }
   ],
   "execution_count": 26
  },
  {
   "metadata": {
    "ExecuteTime": {
     "end_time": "2025-05-15T18:35:19.941753Z",
     "start_time": "2025-05-15T18:35:19.940385Z"
    }
   },
   "cell_type": "code",
   "source": "",
   "id": "991c460966447d49",
   "outputs": [],
   "execution_count": null
  }
 ],
 "metadata": {
  "kernelspec": {
   "display_name": "Python 3",
   "language": "python",
   "name": "python3"
  },
  "language_info": {
   "codemirror_mode": {
    "name": "ipython",
    "version": 2
   },
   "file_extension": ".py",
   "mimetype": "text/x-python",
   "name": "python",
   "nbconvert_exporter": "python",
   "pygments_lexer": "ipython2",
   "version": "2.7.6"
  }
 },
 "nbformat": 4,
 "nbformat_minor": 5
}
