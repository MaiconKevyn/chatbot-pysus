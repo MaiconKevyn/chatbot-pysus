{
 "cells": [
  {
   "cell_type": "code",
   "id": "initial_id",
   "metadata": {
    "collapsed": true,
    "ExecuteTime": {
     "end_time": "2025-05-14T02:24:14.090367Z",
     "start_time": "2025-05-14T02:24:13.899979Z"
    }
   },
   "source": [
    "import sys\n",
    "import os\n",
    "\n",
    "from src.data_prep import load_raw"
   ],
   "outputs": [],
   "execution_count": 1
  },
  {
   "metadata": {
    "ExecuteTime": {
     "end_time": "2025-05-14T02:24:15.502372Z",
     "start_time": "2025-05-14T02:24:15.247722Z"
    }
   },
   "cell_type": "code",
   "source": "sus, idh, pol, ibge = load_raw()",
   "id": "7d636493667a8b19",
   "outputs": [],
   "execution_count": 2
  },
  {
   "metadata": {
    "ExecuteTime": {
     "end_time": "2025-05-14T02:24:16.808402Z",
     "start_time": "2025-05-14T02:24:16.798459Z"
    }
   },
   "cell_type": "code",
   "source": "sus",
   "id": "bc5e1d0f539d4b5a",
   "outputs": [
    {
     "data": {
      "text/plain": [
       "       DIAG_PRINC  MUNIC_RES  MUNIC_MOV   PROC_REA  IDADE  SEXO CID_MORTE  \\\n",
       "0            A46      430300     430300  303080078     67     3         0   \n",
       "1            C168     430300     430300  304100021     60     1         0   \n",
       "2            J128     430300     430300  303140151     76     3         0   \n",
       "3            I500     430300     430300  303060212     62     1         0   \n",
       "4            I158     430300     430300  303060107     29     3         0   \n",
       "...           ...        ...        ...        ...    ...   ...       ...   \n",
       "185293       I64      354780     430460  303040149     64     1             \n",
       "185294       S663     431337     430460  408060484     44     1             \n",
       "185295       M502     430460     430460  408030445     76     3             \n",
       "185296       S860     412550     430460  408060476     32     1             \n",
       "185297       S628     431337     430460  408020172      6     3             \n",
       "\n",
       "        MORTE     CNES  VAL_TOT  UTI_MES_TO   DT_INTER   DT_SAIDA  \\\n",
       "0           0  2266474   292.62           0 2017-08-03 2017-08-08   \n",
       "1           0  2266474   797.11           0 2017-08-03 2017-08-05   \n",
       "2           1  2266474  4987.52           8 2017-07-26 2017-08-03   \n",
       "3           1  2266474  2702.50           4 2017-08-02 2017-08-05   \n",
       "4           0  2266474  1737.69           2 2017-08-04 2017-08-10   \n",
       "...       ...      ...      ...         ...        ...        ...   \n",
       "185293      0  3508528   585.95           0 2014-03-14 2014-03-18   \n",
       "185294      0  3626245   421.30           0 2014-03-18 2014-03-19   \n",
       "185295      0  3626245  4515.42           5 2014-03-10 2014-03-18   \n",
       "185296      0  3626245   680.20           0 2014-03-27 2014-03-29   \n",
       "185297      0  3626245   115.24           0 2014-04-01 2014-04-02   \n",
       "\n",
       "        total_ocorrencias UF_RESIDENCIA_PACIENTE CIDADE_RESIDENCIA_PACIENTE  \\\n",
       "0                   24485      Rio Grande do Sul                Santa Maria   \n",
       "1                   24485      Rio Grande do Sul                Santa Maria   \n",
       "2                   24485      Rio Grande do Sul                Santa Maria   \n",
       "3                   24485      Rio Grande do Sul                Santa Maria   \n",
       "4                   24485      Rio Grande do Sul                Santa Maria   \n",
       "...                   ...                    ...                        ...   \n",
       "185293                 29                    NaN                        NaN   \n",
       "185294               6856                    NaN                        NaN   \n",
       "185295             116612      Rio Grande do Sul                 Uruguaiana   \n",
       "185296                  6                    NaN                        NaN   \n",
       "185297               6856                    NaN                        NaN   \n",
       "\n",
       "        LATI_CIDADE_RES  LONG_CIDADE_RES  \n",
       "0            -29.686051       -53.806921  \n",
       "1            -29.686051       -53.806921  \n",
       "2            -29.686051       -53.806921  \n",
       "3            -29.686051       -53.806921  \n",
       "4            -29.686051       -53.806921  \n",
       "...                 ...              ...  \n",
       "185293              NaN              NaN  \n",
       "185294              NaN              NaN  \n",
       "185295       -29.756073       -57.086755  \n",
       "185296              NaN              NaN  \n",
       "185297              NaN              NaN  \n",
       "\n",
       "[185298 rows x 18 columns]"
      ],
      "text/html": [
       "<div>\n",
       "<style scoped>\n",
       "    .dataframe tbody tr th:only-of-type {\n",
       "        vertical-align: middle;\n",
       "    }\n",
       "\n",
       "    .dataframe tbody tr th {\n",
       "        vertical-align: top;\n",
       "    }\n",
       "\n",
       "    .dataframe thead th {\n",
       "        text-align: right;\n",
       "    }\n",
       "</style>\n",
       "<table border=\"1\" class=\"dataframe\">\n",
       "  <thead>\n",
       "    <tr style=\"text-align: right;\">\n",
       "      <th></th>\n",
       "      <th>DIAG_PRINC</th>\n",
       "      <th>MUNIC_RES</th>\n",
       "      <th>MUNIC_MOV</th>\n",
       "      <th>PROC_REA</th>\n",
       "      <th>IDADE</th>\n",
       "      <th>SEXO</th>\n",
       "      <th>CID_MORTE</th>\n",
       "      <th>MORTE</th>\n",
       "      <th>CNES</th>\n",
       "      <th>VAL_TOT</th>\n",
       "      <th>UTI_MES_TO</th>\n",
       "      <th>DT_INTER</th>\n",
       "      <th>DT_SAIDA</th>\n",
       "      <th>total_ocorrencias</th>\n",
       "      <th>UF_RESIDENCIA_PACIENTE</th>\n",
       "      <th>CIDADE_RESIDENCIA_PACIENTE</th>\n",
       "      <th>LATI_CIDADE_RES</th>\n",
       "      <th>LONG_CIDADE_RES</th>\n",
       "    </tr>\n",
       "  </thead>\n",
       "  <tbody>\n",
       "    <tr>\n",
       "      <th>0</th>\n",
       "      <td>A46</td>\n",
       "      <td>430300</td>\n",
       "      <td>430300</td>\n",
       "      <td>303080078</td>\n",
       "      <td>67</td>\n",
       "      <td>3</td>\n",
       "      <td>0</td>\n",
       "      <td>0</td>\n",
       "      <td>2266474</td>\n",
       "      <td>292.62</td>\n",
       "      <td>0</td>\n",
       "      <td>2017-08-03</td>\n",
       "      <td>2017-08-08</td>\n",
       "      <td>24485</td>\n",
       "      <td>Rio Grande do Sul</td>\n",
       "      <td>Santa Maria</td>\n",
       "      <td>-29.686051</td>\n",
       "      <td>-53.806921</td>\n",
       "    </tr>\n",
       "    <tr>\n",
       "      <th>1</th>\n",
       "      <td>C168</td>\n",
       "      <td>430300</td>\n",
       "      <td>430300</td>\n",
       "      <td>304100021</td>\n",
       "      <td>60</td>\n",
       "      <td>1</td>\n",
       "      <td>0</td>\n",
       "      <td>0</td>\n",
       "      <td>2266474</td>\n",
       "      <td>797.11</td>\n",
       "      <td>0</td>\n",
       "      <td>2017-08-03</td>\n",
       "      <td>2017-08-05</td>\n",
       "      <td>24485</td>\n",
       "      <td>Rio Grande do Sul</td>\n",
       "      <td>Santa Maria</td>\n",
       "      <td>-29.686051</td>\n",
       "      <td>-53.806921</td>\n",
       "    </tr>\n",
       "    <tr>\n",
       "      <th>2</th>\n",
       "      <td>J128</td>\n",
       "      <td>430300</td>\n",
       "      <td>430300</td>\n",
       "      <td>303140151</td>\n",
       "      <td>76</td>\n",
       "      <td>3</td>\n",
       "      <td>0</td>\n",
       "      <td>1</td>\n",
       "      <td>2266474</td>\n",
       "      <td>4987.52</td>\n",
       "      <td>8</td>\n",
       "      <td>2017-07-26</td>\n",
       "      <td>2017-08-03</td>\n",
       "      <td>24485</td>\n",
       "      <td>Rio Grande do Sul</td>\n",
       "      <td>Santa Maria</td>\n",
       "      <td>-29.686051</td>\n",
       "      <td>-53.806921</td>\n",
       "    </tr>\n",
       "    <tr>\n",
       "      <th>3</th>\n",
       "      <td>I500</td>\n",
       "      <td>430300</td>\n",
       "      <td>430300</td>\n",
       "      <td>303060212</td>\n",
       "      <td>62</td>\n",
       "      <td>1</td>\n",
       "      <td>0</td>\n",
       "      <td>1</td>\n",
       "      <td>2266474</td>\n",
       "      <td>2702.50</td>\n",
       "      <td>4</td>\n",
       "      <td>2017-08-02</td>\n",
       "      <td>2017-08-05</td>\n",
       "      <td>24485</td>\n",
       "      <td>Rio Grande do Sul</td>\n",
       "      <td>Santa Maria</td>\n",
       "      <td>-29.686051</td>\n",
       "      <td>-53.806921</td>\n",
       "    </tr>\n",
       "    <tr>\n",
       "      <th>4</th>\n",
       "      <td>I158</td>\n",
       "      <td>430300</td>\n",
       "      <td>430300</td>\n",
       "      <td>303060107</td>\n",
       "      <td>29</td>\n",
       "      <td>3</td>\n",
       "      <td>0</td>\n",
       "      <td>0</td>\n",
       "      <td>2266474</td>\n",
       "      <td>1737.69</td>\n",
       "      <td>2</td>\n",
       "      <td>2017-08-04</td>\n",
       "      <td>2017-08-10</td>\n",
       "      <td>24485</td>\n",
       "      <td>Rio Grande do Sul</td>\n",
       "      <td>Santa Maria</td>\n",
       "      <td>-29.686051</td>\n",
       "      <td>-53.806921</td>\n",
       "    </tr>\n",
       "    <tr>\n",
       "      <th>...</th>\n",
       "      <td>...</td>\n",
       "      <td>...</td>\n",
       "      <td>...</td>\n",
       "      <td>...</td>\n",
       "      <td>...</td>\n",
       "      <td>...</td>\n",
       "      <td>...</td>\n",
       "      <td>...</td>\n",
       "      <td>...</td>\n",
       "      <td>...</td>\n",
       "      <td>...</td>\n",
       "      <td>...</td>\n",
       "      <td>...</td>\n",
       "      <td>...</td>\n",
       "      <td>...</td>\n",
       "      <td>...</td>\n",
       "      <td>...</td>\n",
       "      <td>...</td>\n",
       "    </tr>\n",
       "    <tr>\n",
       "      <th>185293</th>\n",
       "      <td>I64</td>\n",
       "      <td>354780</td>\n",
       "      <td>430460</td>\n",
       "      <td>303040149</td>\n",
       "      <td>64</td>\n",
       "      <td>1</td>\n",
       "      <td></td>\n",
       "      <td>0</td>\n",
       "      <td>3508528</td>\n",
       "      <td>585.95</td>\n",
       "      <td>0</td>\n",
       "      <td>2014-03-14</td>\n",
       "      <td>2014-03-18</td>\n",
       "      <td>29</td>\n",
       "      <td>NaN</td>\n",
       "      <td>NaN</td>\n",
       "      <td>NaN</td>\n",
       "      <td>NaN</td>\n",
       "    </tr>\n",
       "    <tr>\n",
       "      <th>185294</th>\n",
       "      <td>S663</td>\n",
       "      <td>431337</td>\n",
       "      <td>430460</td>\n",
       "      <td>408060484</td>\n",
       "      <td>44</td>\n",
       "      <td>1</td>\n",
       "      <td></td>\n",
       "      <td>0</td>\n",
       "      <td>3626245</td>\n",
       "      <td>421.30</td>\n",
       "      <td>0</td>\n",
       "      <td>2014-03-18</td>\n",
       "      <td>2014-03-19</td>\n",
       "      <td>6856</td>\n",
       "      <td>NaN</td>\n",
       "      <td>NaN</td>\n",
       "      <td>NaN</td>\n",
       "      <td>NaN</td>\n",
       "    </tr>\n",
       "    <tr>\n",
       "      <th>185295</th>\n",
       "      <td>M502</td>\n",
       "      <td>430460</td>\n",
       "      <td>430460</td>\n",
       "      <td>408030445</td>\n",
       "      <td>76</td>\n",
       "      <td>3</td>\n",
       "      <td></td>\n",
       "      <td>0</td>\n",
       "      <td>3626245</td>\n",
       "      <td>4515.42</td>\n",
       "      <td>5</td>\n",
       "      <td>2014-03-10</td>\n",
       "      <td>2014-03-18</td>\n",
       "      <td>116612</td>\n",
       "      <td>Rio Grande do Sul</td>\n",
       "      <td>Uruguaiana</td>\n",
       "      <td>-29.756073</td>\n",
       "      <td>-57.086755</td>\n",
       "    </tr>\n",
       "    <tr>\n",
       "      <th>185296</th>\n",
       "      <td>S860</td>\n",
       "      <td>412550</td>\n",
       "      <td>430460</td>\n",
       "      <td>408060476</td>\n",
       "      <td>32</td>\n",
       "      <td>1</td>\n",
       "      <td></td>\n",
       "      <td>0</td>\n",
       "      <td>3626245</td>\n",
       "      <td>680.20</td>\n",
       "      <td>0</td>\n",
       "      <td>2014-03-27</td>\n",
       "      <td>2014-03-29</td>\n",
       "      <td>6</td>\n",
       "      <td>NaN</td>\n",
       "      <td>NaN</td>\n",
       "      <td>NaN</td>\n",
       "      <td>NaN</td>\n",
       "    </tr>\n",
       "    <tr>\n",
       "      <th>185297</th>\n",
       "      <td>S628</td>\n",
       "      <td>431337</td>\n",
       "      <td>430460</td>\n",
       "      <td>408020172</td>\n",
       "      <td>6</td>\n",
       "      <td>3</td>\n",
       "      <td></td>\n",
       "      <td>0</td>\n",
       "      <td>3626245</td>\n",
       "      <td>115.24</td>\n",
       "      <td>0</td>\n",
       "      <td>2014-04-01</td>\n",
       "      <td>2014-04-02</td>\n",
       "      <td>6856</td>\n",
       "      <td>NaN</td>\n",
       "      <td>NaN</td>\n",
       "      <td>NaN</td>\n",
       "      <td>NaN</td>\n",
       "    </tr>\n",
       "  </tbody>\n",
       "</table>\n",
       "<p>185298 rows × 18 columns</p>\n",
       "</div>"
      ]
     },
     "execution_count": 3,
     "metadata": {},
     "output_type": "execute_result"
    }
   ],
   "execution_count": 3
  },
  {
   "metadata": {
    "ExecuteTime": {
     "end_time": "2025-05-14T02:43:14.807204Z",
     "start_time": "2025-05-14T02:43:14.804014Z"
    }
   },
   "cell_type": "code",
   "source": "len(sus)",
   "id": "da0f8101a689765",
   "outputs": [
    {
     "data": {
      "text/plain": [
       "185298"
      ]
     },
     "execution_count": 15,
     "metadata": {},
     "output_type": "execute_result"
    }
   ],
   "execution_count": 15
  },
  {
   "metadata": {
    "ExecuteTime": {
     "end_time": "2025-05-14T02:36:58.395124Z",
     "start_time": "2025-05-14T02:36:58.367953Z"
    }
   },
   "cell_type": "code",
   "source": [
    "resp = sus[sus.DIAG_PRINC.str.startswith(\"J\")]\n",
    "resp[\"UF_RESIDENCIA_PACIENTE\"].unique()"
   ],
   "id": "7d908d81a79ffacc",
   "outputs": [
    {
     "data": {
      "text/plain": [
       "array(['Rio Grande do Sul', nan, 'Rio de Janeiro', 'Santa Catarina',\n",
       "       'Paraná', 'São Paulo', 'Amazonas', 'Paraíba', 'Pará',\n",
       "       'Rio Grande do Norte', 'Mato Grosso', 'Ceará',\n",
       "       'Mato Grosso do Sul', 'Rondônia', 'Minas Gerais', 'Tocantins',\n",
       "       'Piauí', 'Maranhão', 'Pernambuco'], dtype=object)"
      ]
     },
     "execution_count": 9,
     "metadata": {},
     "output_type": "execute_result"
    }
   ],
   "execution_count": 9
  },
  {
   "metadata": {
    "ExecuteTime": {
     "end_time": "2025-05-14T02:42:52.190572Z",
     "start_time": "2025-05-14T02:42:52.187570Z"
    }
   },
   "cell_type": "code",
   "source": "resp[\"UF_RESIDENCIA_PACIENTE\"].isna().sum()",
   "id": "f0bc169198e794c2",
   "outputs": [
    {
     "data": {
      "text/plain": [
       "np.int64(6058)"
      ]
     },
     "execution_count": 14,
     "metadata": {},
     "output_type": "execute_result"
    }
   ],
   "execution_count": 14
  },
  {
   "metadata": {
    "ExecuteTime": {
     "end_time": "2025-05-14T02:42:09.319993Z",
     "start_time": "2025-05-14T02:42:09.315096Z"
    }
   },
   "cell_type": "code",
   "source": [
    "resp_sem_nan = resp.dropna(subset=['UF_RESIDENCIA_PACIENTE'])\n",
    "resp_sem_nan[\"UF_RESIDENCIA_PACIENTE\"].unique()\n",
    "\n"
   ],
   "id": "6841c5004acb2a4",
   "outputs": [
    {
     "data": {
      "text/plain": [
       "array(['Rio Grande do Sul', 'Rio de Janeiro', 'Santa Catarina', 'Paraná',\n",
       "       'São Paulo', 'Amazonas', 'Paraíba', 'Pará', 'Rio Grande do Norte',\n",
       "       'Mato Grosso', 'Ceará', 'Mato Grosso do Sul', 'Rondônia',\n",
       "       'Minas Gerais', 'Tocantins', 'Piauí', 'Maranhão', 'Pernambuco'],\n",
       "      dtype=object)"
      ]
     },
     "execution_count": 13,
     "metadata": {},
     "output_type": "execute_result"
    }
   ],
   "execution_count": 13
  },
  {
   "metadata": {
    "ExecuteTime": {
     "end_time": "2025-05-14T02:37:21.660117Z",
     "start_time": "2025-05-14T02:37:21.656115Z"
    }
   },
   "cell_type": "code",
   "source": "resp[\"UF_RESIDENCIA_PACIENTE\"].value_counts()",
   "id": "2fc844f90226e734",
   "outputs": [
    {
     "data": {
      "text/plain": [
       "UF_RESIDENCIA_PACIENTE\n",
       "Rio Grande do Sul      2785\n",
       "Santa Catarina           43\n",
       "Paraná                   11\n",
       "Rio de Janeiro            5\n",
       "Amazonas                  5\n",
       "São Paulo                 4\n",
       "Mato Grosso               4\n",
       "Pará                      3\n",
       "Mato Grosso do Sul        3\n",
       "Ceará                     3\n",
       "Rondônia                  2\n",
       "Minas Gerais              2\n",
       "Rio Grande do Norte       1\n",
       "Paraíba                   1\n",
       "Tocantins                 1\n",
       "Piauí                     1\n",
       "Maranhão                  1\n",
       "Pernambuco                1\n",
       "Name: count, dtype: int64"
      ]
     },
     "execution_count": 10,
     "metadata": {},
     "output_type": "execute_result"
    }
   ],
   "execution_count": 10
  },
  {
   "metadata": {
    "ExecuteTime": {
     "end_time": "2025-05-14T02:40:02.828444Z",
     "start_time": "2025-05-14T02:40:02.824837Z"
    }
   },
   "cell_type": "code",
   "source": "resp[\"CIDADE_RESIDENCIA_PACIENTE\"].unique()",
   "id": "82204269f7b3978d",
   "outputs": [
    {
     "data": {
      "text/plain": [
       "array(['Santa Maria', 'Ijuí', nan, 'Uruguaiana', 'Caxias do Sul',\n",
       "       'Macaé - Rio das Ostras - Cabo Frio', 'Passo Fundo',\n",
       "       'Santa Cruz do Sul - Lajeado', 'Pelotas', 'Porto Alegre',\n",
       "       'Criciúma', 'Caçador', 'Guarapuava', 'Campos dos Goytacazes',\n",
       "       'Blumenau', 'Chapecó', 'Presidente Prudente', 'Florianópolis',\n",
       "       'Ponta Grossa', 'Joinville', 'Tefé', 'Sousa - Cajazeiras',\n",
       "       'Maringá', 'Santarém', 'Araraquara', 'Natal', 'Cáceres',\n",
       "       'Juazeiro do Norte', 'Bauru', 'Corumbá', 'Porto Velho',\n",
       "       'Teófilo Otoni', 'Dourados', 'Curitiba', 'Belém', 'Sinop',\n",
       "       'Gurupi', 'Corrente - Bom Jesus', 'Caxias', 'Lages', 'Petrolina',\n",
       "       'Juíz de Fora', 'Rondonópolis', 'Castanhal'], dtype=object)"
      ]
     },
     "execution_count": 12,
     "metadata": {},
     "output_type": "execute_result"
    }
   ],
   "execution_count": 12
  }
 ],
 "metadata": {
  "kernelspec": {
   "display_name": "Python 3",
   "language": "python",
   "name": "python3"
  },
  "language_info": {
   "codemirror_mode": {
    "name": "ipython",
    "version": 2
   },
   "file_extension": ".py",
   "mimetype": "text/x-python",
   "name": "python",
   "nbconvert_exporter": "python",
   "pygments_lexer": "ipython2",
   "version": "2.7.6"
  }
 },
 "nbformat": 4,
 "nbformat_minor": 5
}
